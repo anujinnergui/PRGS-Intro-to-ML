{
  "cells": [
    {
      "cell_type": "markdown",
      "metadata": {},
      "source": [
        "---\n",
        "title: \"Homework 1\"\n",
        "format: html\n",
        "---\n",
        "\n",
        "\n",
        "__Name:__ \\<Anujin\\>\n",
        "\n",
        "\n",
        "__Question 1:__ Use a programming language of your choice to save today's date to a variable.\n",
        "Then, include the date in the text below the code block.\n"
      ],
      "id": "0654940c"
    },
    {
      "cell_type": "code",
      "metadata": {},
      "source": [
        "# your code here\n",
        "print (\"hello World\")\n",
        "\n",
        "from datetime import date\n",
        "\n",
        "#save today's date to variable Y\n",
        "\n",
        "Y=date.today()\n",
        "\n",
        "#Print the date\n",
        "\n",
        "print(\"today's date is\", Y)"
      ],
      "id": "75b1c8c9",
      "execution_count": null,
      "outputs": []
    },
    {
      "cell_type": "markdown",
      "metadata": {},
      "source": [
        "Today's date is: `<Anujin Nergui>`."
      ],
      "id": "a3843e60"
    }
  ],
  "metadata": {
    "kernelspec": {
      "name": "python3",
      "language": "python",
      "display_name": "Python 3 (ipykernel)",
      "path": "C:\\Users\\anergui\\AppData\\Roaming\\Python\\share\\jupyter\\kernels\\python3"
    }
  },
  "nbformat": 4,
  "nbformat_minor": 5
}