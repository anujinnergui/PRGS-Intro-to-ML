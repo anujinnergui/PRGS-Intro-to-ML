{
  "cells": [
    {
      "cell_type": "markdown",
      "metadata": {},
      "source": [
        "---\n",
        "title: \"Homework 1\"\n",
        "format: html\n",
        "---\n",
        "\n",
        "__Name:__ \\<your name here\\>\n",
        "\n",
        "\n",
        "__Question 1:__ Use a programming language of your choice to save today's date to a variable.\n",
        "Then, include the date in the text below the code block.\n",
        "\n",
        "```\n",
        "# your code here\n",
        "```\n",
        "\n",
        "Today's date is: `<your answer here>`."
      ]
    }
  ],
  "metadata": {
    "kernelspec": {
      "name": "python3",
      "language": "python",
      "display_name": "Python 3 (ipykernel)",
      "path": "C:\\Users\\anergui\\AppData\\Local\\miniconda3\\share\\jupyter\\kernels\\python3"
    }
  },
  "nbformat": 4,
  "nbformat_minor": 4
}